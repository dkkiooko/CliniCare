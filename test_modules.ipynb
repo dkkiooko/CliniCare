{
 "cells": [
  {
   "cell_type": "code",
   "execution_count": 1,
   "metadata": {},
   "outputs": [
    {
     "name": "stdout",
     "output_type": "stream",
     "text": [
      "[BaseModel] (86816447-c5f9-4a66-8bd5-860d8764a228) {'id': '86816447-c5f9-4a66-8bd5-860d8764a228', 'created_at': datetime.datetime(2023, 3, 15, 10, 58, 45, 188692), 'updated_at': datetime.datetime(2023, 3, 15, 10, 58, 45, 188692), 'name': 'My First Model', 'my_number': 89}\n"
     ]
    }
   ],
   "source": [
    "from models.base_model import BaseModel\n",
    "\n",
    "my_model = BaseModel()\n",
    "my_model.name = \"My First Model\"\n",
    "my_model.my_number = 89\n",
    "print(my_model)"
   ]
  },
  {
   "cell_type": "code",
   "execution_count": 2,
   "metadata": {},
   "outputs": [
    {
     "name": "stdout",
     "output_type": "stream",
     "text": [
      "-- Reloaded objects --\n",
      "[Doctor] (183a15a1-3583-4155-8e12-55831a1b282a) {'id': '183a15a1-3583-4155-8e12-55831a1b282a', 'created_at': datetime.datetime(2023, 3, 15, 10, 50, 33, 705708), 'updated_at': datetime.datetime(2023, 3, 15, 10, 50, 33, 705735)}\n",
      "[Doctor] (44fe9023-15e3-4c9d-aa8f-1cf23cd2cdbd) {'office_number': 34, 'created_at': datetime.datetime(2023, 3, 15, 10, 53, 6, 868206), 'updated_at': datetime.datetime(2023, 3, 15, 10, 53, 6, 868269), 'id': '44fe9023-15e3-4c9d-aa8f-1cf23cd2cdbd'}\n"
     ]
    }
   ],
   "source": [
    "from models.doctor import Doctor\n",
    "from models import storage\n",
    "\n",
    "all_objs = storage.all()\n",
    "print(\"-- Reloaded objects --\")\n",
    "for obj_id in all_objs.keys():\n",
    "    obj = all_objs[obj_id]\n",
    "    print(obj)"
   ]
  },
  {
   "cell_type": "code",
   "execution_count": 3,
   "metadata": {},
   "outputs": [
    {
     "name": "stdout",
     "output_type": "stream",
     "text": [
      "-- Create a new Doctor --\n",
      "[Doctor] (833bc784-9afc-43d3-af50-aec685b1b963) {'id': '833bc784-9afc-43d3-af50-aec685b1b963', 'created_at': datetime.datetime(2023, 3, 15, 11, 8, 10, 410770), 'updated_at': datetime.datetime(2023, 3, 15, 11, 8, 10, 410926), 'fname': 'Daniel', 'lname': 'Kioko', 'doctor_id': 2344, 'specialty': 'neuro surgery', 'office_number': 2344}\n"
     ]
    }
   ],
   "source": [
    "print(\"-- Create a new Doctor --\")\n",
    "doctor = Doctor()\n",
    "doctor.fname = 'Daniel'\n",
    "doctor.lname = 'Kioko'\n",
    "doctor.doctor_id = 2344\n",
    "doctor.specialty = 'neuro surgery'\n",
    "doctor.office_number = 2344\n",
    "doctor.save()\n",
    "print(doctor)"
   ]
  },
  {
   "cell_type": "code",
   "execution_count": null,
   "metadata": {},
   "outputs": [],
   "source": []
  }
 ],
 "metadata": {
  "kernelspec": {
   "display_name": "Python 3.8.10 64-bit",
   "language": "python",
   "name": "python3"
  },
  "language_info": {
   "codemirror_mode": {
    "name": "ipython",
    "version": 3
   },
   "file_extension": ".py",
   "mimetype": "text/x-python",
   "name": "python",
   "nbconvert_exporter": "python",
   "pygments_lexer": "ipython3",
   "version": "3.8.10"
  },
  "orig_nbformat": 4,
  "vscode": {
   "interpreter": {
    "hash": "916dbcbb3f70747c44a77c7bcd40155683ae19c65e1c03b4aa3499c5328201f1"
   }
  }
 },
 "nbformat": 4,
 "nbformat_minor": 2
}
